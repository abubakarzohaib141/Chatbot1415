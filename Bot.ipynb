{
  "nbformat": 4,
  "nbformat_minor": 0,
  "metadata": {
    "colab": {
      "provenance": [],
      "toc_visible": true,
      "authorship_tag": "ABX9TyNKVDMsyoDJQKjz+Ck/GZRI",
      "include_colab_link": true
    },
    "kernelspec": {
      "name": "python3",
      "display_name": "Python 3"
    },
    "language_info": {
      "name": "python"
    }
  },
  "cells": [
    {
      "cell_type": "markdown",
      "metadata": {
        "id": "view-in-github",
        "colab_type": "text"
      },
      "source": [
        "<a href=\"https://colab.research.google.com/github/abubakarzohaib141/Chatbot1415/blob/main/Bot.ipynb\" target=\"_parent\"><img src=\"https://colab.research.google.com/assets/colab-badge.svg\" alt=\"Open In Colab\"/></a>"
      ]
    },
    {
      "cell_type": "code",
      "execution_count": null,
      "metadata": {
        "id": "WxRU5HTboG3K"
      },
      "outputs": [],
      "source": [
        "! pip install google-generativeai\n",
        "!pip install requests"
      ]
    },
    {
      "cell_type": "code",
      "source": [
        "import os\n",
        "import google.generativeai as genai\n",
        "import requests  # To call Tavily API\n",
        "\n",
        "# 🔑 API Keys\n",
        "gemini_api_key = \"your_gemini_api_key_here\"  # Replace this with your Gemini API Key\n",
        "tavily_api_key = \"tavily_api_Key_here\"  # Replace this with your Tavily API Key\n",
        "\n",
        "# Configure the genai library for Gemini\n",
        "genai.configure(api_key=gemini_api_key)\n",
        "\n",
        "# 🔥 **Short-Term Memory** to store user session data\n",
        "conversation_memory = {}\n",
        "\n",
        "def update_memory(user_id, key, value):\n",
        "    \"\"\"\n",
        "    Updates the user's memory with a specific key-value pair.\n",
        "    \"\"\"\n",
        "    if user_id not in conversation_memory:\n",
        "        conversation_memory[user_id] = {}\n",
        "    conversation_memory[user_id][key] = value\n",
        "\n",
        "def get_user_memory(user_id, key):\n",
        "    \"\"\"\n",
        "    Retrieves the memory for a specific user and key.\n",
        "    \"\"\"\n",
        "    return conversation_memory.get(user_id, {}).get(key, None)\n",
        "\n",
        "# 🔥 **Tavily API Integration**\n",
        "def fetch_from_tavily(query):\n",
        "    \"\"\"\n",
        "    Call the Tavily API to get relevant information.\n",
        "    \"\"\"\n",
        "    try:\n",
        "        url = f\"https://api.tavily.com/search?query={query}&apikey={tavily_api_key}\"\n",
        "        response = requests.get(url)\n",
        "\n",
        "        if response.status_code == 200:\n",
        "            data = response.json()\n",
        "            print(f\"✅ Tavily Response: {data}\")  # Debugging info\n",
        "            return data.get('results', [])\n",
        "        else:\n",
        "            print(f\"❌ Tavily API Error: {response.status_code} - {response.text}\")\n",
        "            return f\"Sorry, I couldn't fetch information from Tavily for '{query}'.\"\n",
        "    except Exception as e:\n",
        "        print(f\"❌ Error calling Tavily API: {e}\")\n",
        "        return \"An error occurred while calling the Tavily API.\"\n",
        "\n",
        "# 🔥 **Gemini Chat Session Setup**\n",
        "generation_config = {\n",
        "    \"temperature\": 1.55,\n",
        "    \"top_p\": 0.95,\n",
        "    \"top_k\": 40,\n",
        "    \"max_output_tokens\": 8192,\n",
        "    \"response_mime_type\": \"text/plain\",\n",
        "}\n",
        "\n",
        "# 🔥 **Start the Gemini Chat Session**\n",
        "model = genai.GenerativeModel(\n",
        "    model_name=\"gemini-1.5-flash\",\n",
        "    generation_config=generation_config,\n",
        "    system_instruction=(\n",
        "        \"You are a helpful assistant. Your main task is to help users by answering questions, providing simple and clear explanations. \"\n",
        "        \"If someone says 'search' or 'find', you should ask Tavily to search for the requested information. If the user asks you to 'summarize it', you should summarize the last message. \"\n",
        "        \"Be polite, friendly, and accurate in your responses.\"\n",
        "    ),\n",
        ")\n",
        "\n",
        "# **Start a chat session** (This will allow us to use send_message() correctly)\n",
        "chat_session = model.start_chat(\n",
        "    history=[]\n",
        ")\n",
        "\n",
        "# 🔥 **Chatbot Response Logic**\n",
        "def chatbot_response(user_input, user_id=\"user_1\"):\n",
        "    \"\"\"\n",
        "    Handles user input, interacts with Gemini and Tavily, and returns a response.\n",
        "    \"\"\"\n",
        "    try:\n",
        "        # 🔥 Handle \"search\" or \"find\" using Tavily\n",
        "        if \"search\" in user_input.lower() or \"find\" in user_input.lower():\n",
        "            print(f\"🔍 Searching Tavily for: {user_input}\")  # Debug\n",
        "            tavily_response = fetch_from_tavily(user_input)\n",
        "            update_memory(user_id, 'last_tavily_response', tavily_response)\n",
        "            if isinstance(tavily_response, list) and len(tavily_response) > 0:\n",
        "                message_to_gemini = \"Summarize the following cricket news articles:\\n\"\n",
        "                for article in tavily_response[:5]:\n",
        "                    message_to_gemini += f\"Title: {article.get('title', 'No Title')}, Link: {article.get('url', 'No URL')}\\n\"\n",
        "                response = chat_session.send_message(message_to_gemini)\n",
        "                return f\"🤖 **Summary from Gemini**: {response.text}\"\n",
        "            else:\n",
        "                return \"❌ No search results found from Tavily.\"\n",
        "\n",
        "        # 🔥 Handle general queries using Gemini\n",
        "        print(f\"💬 Sending message to Gemini: {user_input}\")  # Debug\n",
        "        response = chat_session.send_message(user_input)\n",
        "        print(f\"🤖 Gemini Response: {response.text}\")  # Debug\n",
        "\n",
        "        # Store the user's input and Gemini's response in memory\n",
        "        update_memory(user_id, 'last_user_input', user_input)\n",
        "        update_memory(user_id, 'last_gemini_response', response.text)\n",
        "\n",
        "        return response.text\n",
        "    except Exception as e:\n",
        "        print(f\"❌ Error in chatbot_response: {e}\")\n",
        "        return \"An error occurred while generating a response. Please try again later.\"\n",
        "\n",
        "# 🔥 **Main Chat Loop**\n",
        "try:\n",
        "    print(\"Type 'q', 'exit', or 'quit' to end the chat.\\n\")\n",
        "    while True:\n",
        "        user_input = input(\"👤 You: \")\n",
        "\n",
        "        # 🔥 Check if user wants to exit the chat\n",
        "        if user_input.lower() in [\"q\", \"exit\", \"quit\"]:\n",
        "            print(\"Exiting chat. Goodbye! 👋\")\n",
        "            break\n",
        "\n",
        "        response = chatbot_response(user_input)\n",
        "        print(f\"🤖 ChatBot: {response}\\n\")\n",
        "except Exception as e:\n",
        "    print(f\"❌ An error occurred: {e}\")\n"
      ],
      "metadata": {
        "colab": {
          "base_uri": "https://localhost:8080/",
          "height": 208
        },
        "id": "dcyDpKOCoUvj",
        "outputId": "f2072ef0-fc56-49e3-ccb9-83ba926a805a"
      },
      "execution_count": 22,
      "outputs": [
        {
          "output_type": "stream",
          "name": "stdout",
          "text": [
            "Type 'q', 'exit', or 'quit' to end the chat.\n",
            "\n",
            "👤 You: Hello\n",
            "💬 Sending message to Gemini: Hello\n",
            "🤖 Gemini Response: Hello there! How can I help you today?\n",
            "\n",
            "🤖 ChatBot: Hello there! How can I help you today?\n",
            "\n",
            "\n",
            "👤 You: exit\n",
            "Exiting chat. Goodbye! 👋\n"
          ]
        }
      ]
    }
  ]
}